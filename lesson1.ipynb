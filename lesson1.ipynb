{
 "cells": [
  {
   "cell_type": "code",
   "execution_count": 8,
   "metadata": {},
   "outputs": [
    {
     "name": "stdout",
     "output_type": "stream",
     "text": [
      "1\n",
      "2\n",
      "3\n",
      "4\n",
      "5\n",
      "6\n",
      "Введите произвольное целое число 321\n",
      "3\n",
      "2\n",
      "1\n"
     ]
    }
   ],
   "source": [
    "_author_= \"Диденко С.А.\"\n",
    "\n",
    "def PechatSimvolovChisla(Chislo):\n",
    "    Chs=str(Chislo)\n",
    "    for Simvol in Chs:\n",
    "        print (Simvol)\n",
    "\n",
    "\n",
    "IzvestnoeChislo = 123456\n",
    "PechatSimvolovChisla(IzvestnoeChislo)\n",
    "Chislo = int(input (\"Введите произвольное целое число \"))\n",
    "PechatSimvolovChisla(Chislo)\n"
   ]
  },
  {
   "cell_type": "code",
   "execution_count": 1,
   "metadata": {},
   "outputs": [
    {
     "name": "stdout",
     "output_type": "stream",
     "text": [
      "Введите число А 5\n",
      "Введите число B 7\n",
      "A= 7 B= 5\n"
     ]
    }
   ],
   "source": [
    "A=input (\"Введите число А \")\n",
    "B=input (\"Введите число B \")\n",
    "C=A\n",
    "A=B\n",
    "B=C\n",
    "print (\"A=\",A, \"B=\",B)\n"
   ]
  },
  {
   "cell_type": "code",
   "execution_count": 3,
   "metadata": {},
   "outputs": [
    {
     "name": "stdout",
     "output_type": "stream",
     "text": [
      "Укажите ваш возраст 24\n",
      "Доступ разрешен\n"
     ]
    }
   ],
   "source": [
    "Vozrast = int(input('Укажите ваш возраст '))\n",
    "if Vozrast < 18:\n",
    "    print('Пользование данным ресурсом только с 18 лет')\n",
    "    access = False\n",
    "else:\n",
    "    print('Доступ разрешен')\n",
    "    access = True\n",
    "    "
   ]
  },
  {
   "cell_type": "code",
   "execution_count": null,
   "metadata": {},
   "outputs": [],
   "source": []
  },
  {
   "cell_type": "code",
   "execution_count": null,
   "metadata": {},
   "outputs": [],
   "source": []
  }
 ],
 "metadata": {
  "kernelspec": {
   "display_name": "Python 3",
   "language": "python",
   "name": "python3"
  },
  "language_info": {
   "codemirror_mode": {
    "name": "ipython",
    "version": 3
   },
   "file_extension": ".py",
   "mimetype": "text/x-python",
   "name": "python",
   "nbconvert_exporter": "python",
   "pygments_lexer": "ipython3",
   "version": "3.7.0"
  }
 },
 "nbformat": 4,
 "nbformat_minor": 2
}
